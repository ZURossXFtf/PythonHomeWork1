{
 "cells": [
  {
   "cell_type": "code",
   "id": "initial_id",
   "metadata": {
    "collapsed": true,
    "ExecuteTime": {
     "end_time": "2024-09-28T10:17:55.285398Z",
     "start_time": "2024-09-28T10:17:55.281574Z"
    }
   },
   "source": [
    "rains = (0,1, 2, 3, 4, 5, 6, 7, 8, 9, 10,\n",
    "     11, 12, 13, 333, 15, 16, 17, 18,\n",
    "     19, 20,30,22,23,24,3335,26,27,28,232323239)\n",
    "\n",
    "print(str(rains.index(max(rains))) + \"-ого Февраля выпало самое большое кол-во осадков\")\n",
    "    \n"
   ],
   "outputs": [
    {
     "name": "stdout",
     "output_type": "stream",
     "text": [
      "29-ого Февраля выпало самое большое кол-во осадков\n"
     ]
    }
   ],
   "execution_count": 86
  },
  {
   "metadata": {
    "ExecuteTime": {
     "end_time": "2024-09-28T11:27:08.129439Z",
     "start_time": "2024-09-28T11:27:08.123885Z"
    }
   },
   "cell_type": "code",
   "source": [
    "import numpy as np\n",
    "\n",
    "array = np.random.randint(0, 100, (5, 5))\n",
    "print(\"Исходный массив:\\n\", array)\n",
    "\n",
    "max_value = np.max(array)\n",
    "max_index = np.unravel_index(np.argmax(array, axis=None), array.shape)\n",
    "\n",
    "\n",
    "if max_index[0] != 0:\n",
    "    array[[0, max_index[0]]] = array[[max_index[0], 0]]\n",
    "\n",
    "\n",
    "if max_index[1] != 0:\n",
    "    array[:, [0, max_index[1]]] = array[:, [max_index[1], 0]]\n",
    "\n",
    "print(\"Массив после перемещения наибольшего элемента:\\n\", array)"
   ],
   "id": "a225e2aff528ee9f",
   "outputs": [
    {
     "name": "stdout",
     "output_type": "stream",
     "text": [
      "Исходный массив:\n",
      " [[18 64 87  4 16]\n",
      " [38  2 45 12 28]\n",
      " [ 2 66 13 19 44]\n",
      " [49 51 21 10 44]\n",
      " [23 23 11 54 18]]\n",
      "Массив после перемещения наибольшего элемента:\n",
      " [[87 64 18  4 16]\n",
      " [45  2 38 12 28]\n",
      " [13 66  2 19 44]\n",
      " [21 51 49 10 44]\n",
      " [11 23 23 54 18]]\n"
     ]
    }
   ],
   "execution_count": 210
  },
  {
   "metadata": {
    "ExecuteTime": {
     "end_time": "2024-09-28T11:41:49.952879Z",
     "start_time": "2024-09-28T11:41:49.948763Z"
    }
   },
   "cell_type": "code",
   "source": [
    "my_list = [1, 2, 3, 3, 9, 6, 7, 8, 9, 10,]\n",
    "unique_elements = []\n",
    "\n",
    "for i in my_list:\n",
    "    if  my_list.count(i) == 1:\n",
    "        unique_elements.append(i)\n",
    "\n",
    "print(unique_elements)\n",
    "        "
   ],
   "id": "7150be5ec45fd57a",
   "outputs": [
    {
     "name": "stdout",
     "output_type": "stream",
     "text": [
      "[1, 2, 6, 7, 8, 10]\n"
     ]
    }
   ],
   "execution_count": 228
  },
  {
   "metadata": {
    "ExecuteTime": {
     "end_time": "2024-09-28T11:56:47.689040Z",
     "start_time": "2024-09-28T11:56:47.685010Z"
    }
   },
   "cell_type": "code",
   "source": [
    "more = set('qwertyuiop[]asdfghjklzxcvbnm/')\n",
    "print(more)\n",
    "print('Различных символов: '+str(len(more)))"
   ],
   "id": "6f2aaf9e0bdcca50",
   "outputs": [
    {
     "name": "stdout",
     "output_type": "stream",
     "text": [
      "{'m', 'i', 'w', 'o', 'q', 'v', 'e', 'u', 'g', 'h', 's', '[', 'j', '/', 'z', 'd', 'b', 'y', 'r', 'l', 't', ']', 'f', 'p', 'a', 'x', 'k', 'c', 'n'}\n",
      "Различных символов: 29\n"
     ]
    }
   ],
   "execution_count": 252
  },
  {
   "metadata": {
    "ExecuteTime": {
     "end_time": "2024-09-28T12:11:12.063181Z",
     "start_time": "2024-09-28T12:11:12.058966Z"
    }
   },
   "cell_type": "code",
   "source": [
    "dictionary = {'a':3, 'b':6, 'c':4}\n",
    "\n",
    "def result_mult(input_dict):\n",
    "    result = 1\n",
    "    for value in input_dict.values():\n",
    "        result *= value\n",
    "    return result\n",
    "        \n",
    "product = result_mult(dictionary)\n",
    "print(\"Произведение всех значений словаря:\", product)"
   ],
   "id": "86dcefd66676adab",
   "outputs": [
    {
     "name": "stdout",
     "output_type": "stream",
     "text": [
      "Произведение всех значений словаря: 72\n"
     ]
    }
   ],
   "execution_count": 269
  },
  {
   "metadata": {},
   "cell_type": "code",
   "outputs": [],
   "execution_count": null,
   "source": "",
   "id": "50c5aea17ec2dcfb"
  }
 ],
 "metadata": {
  "kernelspec": {
   "display_name": "Python 3",
   "language": "python",
   "name": "python3"
  },
  "language_info": {
   "codemirror_mode": {
    "name": "ipython",
    "version": 2
   },
   "file_extension": ".py",
   "mimetype": "text/x-python",
   "name": "python",
   "nbconvert_exporter": "python",
   "pygments_lexer": "ipython2",
   "version": "2.7.6"
  }
 },
 "nbformat": 4,
 "nbformat_minor": 5
}
